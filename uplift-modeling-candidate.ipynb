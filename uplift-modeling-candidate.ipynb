{
 "cells": [
  {
   "cell_type": "code",
   "execution_count": null,
   "metadata": {},
   "outputs": [],
   "source": [
    "import warnings\n",
    "warnings.simplefilter(action='ignore', category=FutureWarning)\n",
    "\n",
    "import pandas as pd\n",
    "pd.options.display.max_columns = 100\n",
    "\n",
    "from splitting import Splitting\n",
    "from analysis import AnalysisMetrics\n",
    "from hyperparams import Hyperparameters\n",
    "from transforms import ClusterTransform\n",
    "from modeling import Model \n",
    "\n",
    "print(pd.__version__)\n"
   ]
  },
  {
   "cell_type": "code",
   "execution_count": null,
   "metadata": {},
   "outputs": [],
   "source": [
    "model = Model(model_name='Candidate_20210324')\n",
    "\n",
    "params = {\n",
    " u'5Pyaterochka (X5)': {'colsample_bytree': 0.55,\n",
    "  'gamma': 0.8,\n",
    "  'learning_rate': 0.05,\n",
    "  'max_depth': 5,\n",
    "  'min_child_weight': 6.0,\n",
    "  'n_estimators': 111,\n",
    "  'reg_alpha': 0.55,\n",
    "  'reg_lambda': 1.1,\n",
    "  'subsample': 0.4,\n",
    "  'transformer_nominal': 'JamesSteinEncoder',\n",
    "  'transformer_ordinal': 'OrdinalEncoder',\n",
    "  'under_predict_weight': 2.0},\n",
    " u'Dixy': {'colsample_bytree': 0.4,\n",
    "  'gamma': 0.75,\n",
    "  'learning_rate': 0.1,\n",
    "  'max_depth': 5,\n",
    "  'min_child_weight': 7.0,\n",
    "  'n_estimators': 59,\n",
    "  'reg_alpha': 0.6000000000000001,\n",
    "  'reg_lambda': 1.3,\n",
    "  'subsample': 0.55,\n",
    "  'transformer_nominal': 'JamesSteinEncoder',\n",
    "  'transformer_ordinal': 'OrdinalEncoder',\n",
    "  'under_predict_weight': 2.0},\n",
    " u'Lenta': {'colsample_bytree': 0.8,\n",
    "  'gamma': 0.7000000000000001,\n",
    "  'learning_rate': 0.08,\n",
    "  'max_depth': 2,\n",
    "  'min_child_weight': 1.0,\n",
    "  'n_estimators': 137,\n",
    "  'reg_alpha': 0.7000000000000001,\n",
    "  'reg_lambda': 1.0,\n",
    "  'subsample': 0.8,\n",
    "  'transformer_nominal': 'JamesSteinEncoder',\n",
    "  'transformer_ordinal': 'OrdinalEncoder',\n",
    "  'under_predict_weight': 2.5},\n",
    " u'Magnit': {'colsample_bytree': 0.4,\n",
    "  'gamma': 0.9500000000000001,\n",
    "  'learning_rate': 0.08,\n",
    "  'max_depth': 4,\n",
    "  'min_child_weight': 4.0,\n",
    "  'n_estimators': 152,\n",
    "  'reg_alpha': 0.9500000000000001,\n",
    "  'reg_lambda': 1.1,\n",
    "  'subsample': 0.7000000000000001,\n",
    "  'transformer_nominal': 'JamesSteinEncoder',\n",
    "  'transformer_ordinal': 'OrdinalEncoder',\n",
    "  'under_predict_weight': 3.0},\n",
    " u'Okey Group': {'colsample_bytree': 0.5,\n",
    "  'gamma': 1.0,\n",
    "  'learning_rate': 0.09,\n",
    "  'max_depth': 4,\n",
    "  'min_child_weight': 1.0,\n",
    "  'n_estimators': 98,\n",
    "  'reg_alpha': 0.8,\n",
    "  'reg_lambda': 1.1500000000000001,\n",
    "  'subsample': 0.45,\n",
    "  'transformer_nominal': 'JamesSteinEncoder',\n",
    "  'transformer_ordinal': 'OrdinalEncoder',\n",
    "  'under_predict_weight': 2.0}\n",
    "}\n",
    "\n",
    "features = [\n",
    "    u'original_pid',\n",
    "    u'account_id',\n",
    "    u'original_product_dimension_25',\n",
    "    u'original_product_dimension_26',\n",
    "    u'week_agg_8',\n",
    "    u'baseline_units',\n",
    "    u'consumer_length',\n",
    "    u'promotion_type',\n",
    "    u'discount_perc_cohort',\n",
    "    u'promoted_niv',\n",
    "    u'previous_promotion_week_distance',\n",
    "    u'total_nr_products'\n",
    "]\n",
    "\n",
    "duplication_map = {\n",
    "    'Okey Group': ['5Pyaterochka (X5)','Dixy', 'Okey Group'],\n",
    "    'Lenta': ['Lenta'],\n",
    "    '5Pyaterochka (X5)': ['5Pyaterochka (X5)', 'Lenta', 'Dixy', 'Okey Group', 'Magnit'],\n",
    "    'Dixy': ['5Pyaterochka (X5)', 'Lenta', 'Dixy', 'Okey Group', 'Magnit'],\n",
    "    'Magnit': ['5Pyaterochka (X5)', 'Lenta', 'Magnit'],\n",
    "}\n",
    "\n",
    "model.create(\n",
    "    params=params,\n",
    "    feature_filename='./outputs/im_feature_info_dict_mars_ru_20210212.txt',\n",
    "    features=features,\n",
    "    target='total_units',\n",
    "#     cat_feature=None,\n",
    "    cat_feature='account_banner',\n",
    "#     cat_feature=['5Pyaterochka (X5)','Lenta','Dixy','Okey Group'],\n",
    "    output_dir='outputs',\n",
    "    data_filename='../data/20210212_mars_ru_prod_trainset.msgpack',\n",
    "    filter_filename='./outputs/im_data_retrieval-v6-20210212.txt',\n",
    "    account_filter=['5Pyaterochka (X5)','Lenta','Dixy','Okey Group','Magnit'],\n",
    "    future_data_filename='../data/20210212_mars_ru_prod_futureset.msgpack',\n",
    "    future_target='total_units_2',\n",
    "    duplication_map=duplication_map)"
   ]
  },
  {
   "cell_type": "code",
   "execution_count": null,
   "metadata": {},
   "outputs": [],
   "source": [
    "model.train()"
   ]
  },
  {
   "cell_type": "code",
   "execution_count": null,
   "metadata": {},
   "outputs": [],
   "source": [
    "analysis_metrics = AnalysisMetrics(model=model,\n",
    "                                   reevaluate=True,\n",
    "                                   number_tests=100,\n",
    "                                   use_product_filter=True,\n",
    "                                   filter_threshold=300)\n",
    "\n",
    "model.update_info(analysis_metrics)\n",
    "model.save()"
   ]
  },
  {
   "cell_type": "code",
   "execution_count": null,
   "metadata": {},
   "outputs": [],
   "source": [
    "analysis_metrics.plot_metrics(['r2'])"
   ]
  },
  {
   "cell_type": "code",
   "execution_count": null,
   "metadata": {},
   "outputs": [],
   "source": [
    "model"
   ]
  },
  {
   "cell_type": "code",
   "execution_count": null,
   "metadata": {
    "scrolled": false
   },
   "outputs": [],
   "source": [
    "model = Model(model_name=\"Candidate_20210323_2\")\n",
    "model.load()\n",
    "analysis_metrics = AnalysisMetrics(model=model)\n",
    "\n",
    "analysis_metrics.plot_metrics()"
   ]
  },
  {
   "cell_type": "code",
   "execution_count": null,
   "metadata": {
    "scrolled": true
   },
   "outputs": [],
   "source": [
    "# analysis_metrics.get_historic_overall_results()\n",
    "# analysis_metrics.get_historic_account_results()"
   ]
  },
  {
   "cell_type": "code",
   "execution_count": null,
   "metadata": {},
   "outputs": [],
   "source": [
    "# analysis_metrics.metrics_median('overall')\n",
    "# model.get_duplication_info()\n",
    "model.clusters"
   ]
  }
 ],
 "metadata": {
  "kernelspec": {
   "display_name": "Python [conda env:py_27]",
   "language": "python",
   "name": "conda-env-py_27-py"
  },
  "language_info": {
   "codemirror_mode": {
    "name": "ipython",
    "version": 2
   },
   "file_extension": ".py",
   "mimetype": "text/x-python",
   "name": "python",
   "nbconvert_exporter": "python",
   "pygments_lexer": "ipython2",
   "version": "2.7.18"
  }
 },
 "nbformat": 4,
 "nbformat_minor": 2
}
